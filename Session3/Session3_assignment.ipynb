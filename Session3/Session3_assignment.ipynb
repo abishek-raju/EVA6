{
  "nbformat": 4,
  "nbformat_minor": 0,
  "metadata": {
    "colab": {
      "name": "Session3_assignment.ipynb",
      "provenance": [],
      "collapsed_sections": [],
      "machine_shape": "hm"
    },
    "kernelspec": {
      "name": "python3",
      "display_name": "Python 3"
    },
    "language_info": {
      "name": "python"
    },
    "accelerator": "GPU"
  },
  "cells": [
    {
      "cell_type": "code",
      "metadata": {
        "id": "J0M1oRlczl4n"
      },
      "source": [
        "import torch\n",
        "import torchvision\n",
        "import torchvision.transforms as transforms\n",
        "import gc"
      ],
      "execution_count": 1,
      "outputs": []
    },
    {
      "cell_type": "markdown",
      "metadata": {
        "id": "NGXPCCAh0oCp"
      },
      "source": [
        "https://www.codementor.io/@dejanbatanjac/pytorch-the-missing-manual-on-loading-mnist-dataset-wjeh5top7"
      ]
    },
    {
      "cell_type": "code",
      "metadata": {
        "id": "_PK5FR1110Ce"
      },
      "source": [
        "t = transforms.Compose([\n",
        "                       transforms.ToTensor()])"
      ],
      "execution_count": 2,
      "outputs": []
    },
    {
      "cell_type": "code",
      "metadata": {
        "id": "gtdG737bz4Gf"
      },
      "source": [
        "mnist_dataset = torchvision.datasets.MNIST(root = '/data/mnist', train = True, transform = t, download = True)\n",
        "mnist_dataset_val = torchvision.datasets.MNIST(root = '/data/mnist', train = False, transform = t, download = True)\n"
      ],
      "execution_count": 3,
      "outputs": []
    },
    {
      "cell_type": "code",
      "metadata": {
        "id": "5tvFG7AU0kyb"
      },
      "source": [
        "from torch.utils.data import DataLoader, Dataset\n",
        "import random"
      ],
      "execution_count": 4,
      "outputs": []
    },
    {
      "cell_type": "code",
      "metadata": {
        "id": "s9UBb_sl2O1K"
      },
      "source": [
        "class Mnist_Rand_Number(Dataset):\n",
        "    def __init__(self, mnist_builtin):\n",
        "        self.mnist_builtin = mnist_builtin\n",
        "\n",
        "    def __getitem__(self, index):\n",
        "        image,label = self.mnist_builtin[index]\n",
        "        return image,label,random.randint(0,9)\n",
        "\n",
        "    def __len__(self):\n",
        "        return len(self.mnist_builtin)"
      ],
      "execution_count": 5,
      "outputs": []
    },
    {
      "cell_type": "code",
      "metadata": {
        "id": "1u7rmUV02Oyp"
      },
      "source": [
        "mnist_number_dataset = Mnist_Rand_Number(mnist_dataset)"
      ],
      "execution_count": 6,
      "outputs": []
    },
    {
      "cell_type": "code",
      "metadata": {
        "id": "oL1ypo_PsP9a"
      },
      "source": [
        "mnist_number_dataset_val = Mnist_Rand_Number(mnist_dataset_val)"
      ],
      "execution_count": 7,
      "outputs": []
    },
    {
      "cell_type": "code",
      "metadata": {
        "id": "ORTknvAP2OwR"
      },
      "source": [
        "mnist_number_loader = DataLoader(mnist_number_dataset,32,True)"
      ],
      "execution_count": 8,
      "outputs": []
    },
    {
      "cell_type": "code",
      "metadata": {
        "id": "Vr6uEpW4sVDk"
      },
      "source": [
        "mnist_number_loader_val = DataLoader(mnist_number_dataset_val,32,False)"
      ],
      "execution_count": 9,
      "outputs": []
    },
    {
      "cell_type": "code",
      "metadata": {
        "id": "ABCPGLK-2OtP"
      },
      "source": [
        "# batch_images,batch_labels,batch_randomn_numbers = next(iter(mnist_number_loader))"
      ],
      "execution_count": 10,
      "outputs": []
    },
    {
      "cell_type": "code",
      "metadata": {
        "id": "LcKy-TH2923F"
      },
      "source": [
        "import torch.nn as nn\n",
        "import torch.nn.functional as F"
      ],
      "execution_count": 11,
      "outputs": []
    },
    {
      "cell_type": "code",
      "metadata": {
        "id": "pVvOoLCp93wZ"
      },
      "source": [
        "class Network(nn.Module):\n",
        "    def __init__(self):\n",
        "        super().__init__()\n",
        "        self.conv1 = nn.Conv2d(in_channels=1, out_channels=8, kernel_size=3)    # 1x28x28\n",
        "        self.conv2 = nn.Conv2d(in_channels=8, out_channels=16, kernel_size=3)   # 8x26x26\n",
        "        # maxpool                                                               # 16x24x24\n",
        "        self.fc1 = nn.Linear(in_features=16 * 12 * 12, out_features=120)        # 16x12x12\n",
        "        self.fc2 = nn.Linear(in_features=120, out_features=60)                  # 1x120\n",
        "        self.out1 = nn.Linear(in_features=60, out_features=10)                  # 1x60\n",
        "                                                                                # 1x10\n",
        "        self.out2 = nn.Linear(in_features=60 + 10, out_features=19)             # 1x60\n",
        "                                                                                # 1x19\n",
        "    def forward(self,img,rnum):\n",
        "        x = self.conv1(img)\n",
        "\n",
        "        x = self.conv2(F.relu(x))\n",
        "        x = F.max_pool2d(F.relu(x), kernel_size=2, stride=2)\n",
        "        x = F.relu(x).flatten(start_dim=1, end_dim=-1)\n",
        "        x = self.fc1(F.relu(x))\n",
        "        x = self.fc2(F.relu(x))\n",
        "        y1 = self.out1(F.relu(x))\n",
        "        y2 = self.out2(torch.cat([F.relu(x),torch.nn.functional.one_hot(torch.tensor(rnum),10)],dim = 1))\n",
        "        return torch.cat([F.log_softmax(y1,dim = 1),F.log_softmax(y2,dim = 1)],dim = 1)"
      ],
      "execution_count": 12,
      "outputs": []
    },
    {
      "cell_type": "code",
      "metadata": {
        "id": "Jj4GVGiyD5rA"
      },
      "source": [
        "net = Network()"
      ],
      "execution_count": 13,
      "outputs": []
    },
    {
      "cell_type": "code",
      "metadata": {
        "id": "JxNK2jq3EEEJ"
      },
      "source": [
        "# temp = net(batch_images,batch_randomn_numbers)"
      ],
      "execution_count": 14,
      "outputs": []
    },
    {
      "cell_type": "code",
      "metadata": {
        "id": "ek_TzwaJNBXY"
      },
      "source": [
        "# temp.shape"
      ],
      "execution_count": 15,
      "outputs": []
    },
    {
      "cell_type": "code",
      "metadata": {
        "id": "nQqRgdoCPjUG"
      },
      "source": [
        "# batch_randomn_numbers.unsqueeze(dim = 1).shape"
      ],
      "execution_count": 16,
      "outputs": []
    },
    {
      "cell_type": "code",
      "metadata": {
        "id": "3S369sT2PXTZ"
      },
      "source": [
        "# batch_labels.shape,batch_randomn_numbers.shape"
      ],
      "execution_count": 17,
      "outputs": []
    },
    {
      "cell_type": "code",
      "metadata": {
        "id": "CszKeaekPFh3"
      },
      "source": [
        "# torch.cat([batch_labels.unsqueeze(dim = 1),batch_randomn_numbers.unsqueeze(dim = 1)],dim = 1).shape"
      ],
      "execution_count": 18,
      "outputs": []
    },
    {
      "cell_type": "code",
      "metadata": {
        "id": "AWs4xwIpOtqN"
      },
      "source": [
        "# loss_1 = torch.nn.NLLLoss()(temp[:,:10], batch_labels)"
      ],
      "execution_count": 19,
      "outputs": []
    },
    {
      "cell_type": "code",
      "metadata": {
        "id": "sLMBOYBdQzIG"
      },
      "source": [
        "# loss_2 = torch.nn.NLLLoss()(temp[:,10:], batch_randomn_numbers)"
      ],
      "execution_count": 20,
      "outputs": []
    },
    {
      "cell_type": "code",
      "metadata": {
        "id": "ANB6WsvWQ-XU"
      },
      "source": [
        "# final_loss = loss_1 + loss_2"
      ],
      "execution_count": 21,
      "outputs": []
    },
    {
      "cell_type": "code",
      "metadata": {
        "id": "G0HdeA7-RDja"
      },
      "source": [
        "import torch.optim as optim\n",
        "# optimizer = optim.Adam(net.parameters(), lr=0.01)"
      ],
      "execution_count": 22,
      "outputs": []
    },
    {
      "cell_type": "code",
      "metadata": {
        "id": "wB1xH0WdRdG3"
      },
      "source": [
        "# final_loss.backward()\n",
        "# optimizer.step()"
      ],
      "execution_count": 23,
      "outputs": []
    },
    {
      "cell_type": "code",
      "metadata": {
        "id": "1TYOfwR5SWJz"
      },
      "source": [
        "dev = torch.device(\"cuda\") if torch.cuda.is_available() else torch.device(\"cpu\")\n"
      ],
      "execution_count": 24,
      "outputs": []
    },
    {
      "cell_type": "code",
      "metadata": {
        "colab": {
          "base_uri": "https://localhost:8080/"
        },
        "id": "eydTRWRNUckt",
        "outputId": "2355c3aa-27a8-4b29-a6e9-7dbe85a54520"
      },
      "source": [
        "dev"
      ],
      "execution_count": 25,
      "outputs": [
        {
          "output_type": "execute_result",
          "data": {
            "text/plain": [
              "device(type='cuda')"
            ]
          },
          "metadata": {
            "tags": []
          },
          "execution_count": 25
        }
      ]
    },
    {
      "cell_type": "code",
      "metadata": {
        "id": "cgisRqrsctKx"
      },
      "source": [
        "# for batch in train_loader: # Get Batch\n",
        "#     batch_images,batch_labels,batch_randomn_numbers = batch \n",
        "#     batch_images,batch_labels,batch_randomn_numbers = batch_images.to(dev),batch_labels.to(dev),batch_randomn_numbers.to(dev)\n",
        "#     break"
      ],
      "execution_count": 26,
      "outputs": []
    },
    {
      "cell_type": "code",
      "metadata": {
        "id": "6Z-msfTDrjY5"
      },
      "source": [
        "def get_num_correct(preds, labels):\n",
        "  return preds.argmax(dim=1).eq(labels).sum().item()"
      ],
      "execution_count": 27,
      "outputs": []
    },
    {
      "cell_type": "code",
      "metadata": {
        "colab": {
          "base_uri": "https://localhost:8080/"
        },
        "id": "sw-gqky9RsF4",
        "outputId": "77c299fa-8328-4c95-c5df-0f2be7db3142"
      },
      "source": [
        "net = net.to(dev)\n",
        "train_loader = mnist_number_loader\n",
        "optimizer = optim.Adam(net.parameters(), lr=0.001)\n",
        "train_mnist_loss_tracker = []\n",
        "train_randomn_loss_tracker = []\n",
        "test_mnist_loss_tracker = []\n",
        "test_randomn_loss_tracker = []\n",
        "train_mnist_accuracy_tracker = []\n",
        "train_randomn_accuracy_tracker = []\n",
        "test_mnist_accuracy_tracker = []\n",
        "test_randomn_accuracy_tracker = []\n",
        "for epoch in range(20):\n",
        "\n",
        "    total_loss = 0\n",
        "    total_correct_mnist = 0\n",
        "    total_correct_randomn = 0\n",
        "    total_samples = 0\n",
        "    train_mnist_loss = 0\n",
        "    train_randomn_loss = 0\n",
        "    net = net.train()\n",
        "    for batch in train_loader: # Get Batch\n",
        "        batch_images,batch_labels,batch_randomn_numbers = batch \n",
        "        batch_images,batch_labels,batch_randomn_numbers = batch_images.to(dev),batch_labels.to(dev),batch_randomn_numbers.to(dev)\n",
        "        preds = net(batch_images,batch_randomn_numbers) # Pass Batch\n",
        "        loss_1 = torch.nn.NLLLoss()(preds[:,:10], batch_labels) # Calculate Loss\n",
        "        loss_2 = torch.nn.NLLLoss()(preds[:,10:], batch_randomn_numbers+batch_labels)\n",
        "        final_loss = loss_1 + loss_2\n",
        "        train_mnist_loss += loss_1.item()\n",
        "        train_randomn_loss += loss_2.item()\n",
        "        optimizer.zero_grad()\n",
        "        final_loss.backward() # Calculate Gradients\n",
        "        optimizer.step() # Update Weights\n",
        "\n",
        "        total_loss += final_loss.item()\n",
        "        total_correct_mnist += get_num_correct(preds[:,:10], batch_labels)\n",
        "        total_correct_randomn += get_num_correct(preds[:,10:], batch_randomn_numbers+batch_labels)\n",
        "        total_samples += batch_labels.shape[0]\n",
        "    train_mnist_loss_tracker.append(train_mnist_loss)\n",
        "    train_randomn_loss_tracker.append(train_randomn_loss)\n",
        "    train_mnist_accuracy_tracker.append(total_correct_mnist/total_samples)\n",
        "    train_randomn_accuracy_tracker.append(total_correct_randomn/total_samples)\n",
        "    total_loss = 0\n",
        "    total_correct_mnist = 0\n",
        "    total_correct_randomn = 0\n",
        "    total_samples = 0\n",
        "    test_mnist_loss = 0\n",
        "    test_randomn_loss = 0\n",
        "    net = net.eval()\n",
        "    for batch in mnist_number_loader_val:\n",
        "        gc.collect()\n",
        "        batch_images,batch_labels,batch_randomn_numbers = batch \n",
        "        batch_images,batch_labels,batch_randomn_numbers = batch_images.to(dev),batch_labels.to(dev),batch_randomn_numbers.to(dev)\n",
        "        preds = net(batch_images,batch_randomn_numbers)\n",
        "        loss_1 = torch.nn.NLLLoss()(preds[:,:10], batch_labels) # Calculate Loss\n",
        "        loss_2 = torch.nn.NLLLoss()(preds[:,10:], batch_randomn_numbers+batch_labels)\n",
        "        total_loss += final_loss.item()\n",
        "        test_mnist_loss += loss_1.item()\n",
        "        test_randomn_loss += loss_2.item()\n",
        "        total_correct_mnist += get_num_correct(preds[:,:10], batch_labels)\n",
        "        total_correct_randomn += get_num_correct(preds[:,10:], batch_randomn_numbers+batch_labels)\n",
        "        total_samples += batch_labels.shape[0]\n",
        "    test_mnist_loss_tracker.append(test_mnist_loss)\n",
        "    test_randomn_loss_tracker.append(test_randomn_loss)\n",
        "    test_mnist_accuracy_tracker.append(total_correct_mnist/total_samples)\n",
        "    test_randomn_accuracy_tracker.append(total_correct_randomn/total_samples)\n",
        "    print(\n",
        "        \"epoch\", epoch, \n",
        "    )"
      ],
      "execution_count": 28,
      "outputs": [
        {
          "output_type": "stream",
          "text": [
            "/usr/local/lib/python3.7/dist-packages/ipykernel_launcher.py:22: UserWarning: To copy construct from a tensor, it is recommended to use sourceTensor.clone().detach() or sourceTensor.clone().detach().requires_grad_(True), rather than torch.tensor(sourceTensor).\n"
          ],
          "name": "stderr"
        },
        {
          "output_type": "stream",
          "text": [
            "epoch 0\n",
            "epoch 1\n",
            "epoch 2\n",
            "epoch 3\n",
            "epoch 4\n",
            "epoch 5\n",
            "epoch 6\n",
            "epoch 7\n",
            "epoch 8\n",
            "epoch 9\n",
            "epoch 10\n",
            "epoch 11\n",
            "epoch 12\n",
            "epoch 13\n",
            "epoch 14\n",
            "epoch 15\n",
            "epoch 16\n",
            "epoch 17\n",
            "epoch 18\n",
            "epoch 19\n"
          ],
          "name": "stdout"
        }
      ]
    },
    {
      "cell_type": "code",
      "metadata": {
        "id": "ye8uGS38wdpp"
      },
      "source": [
        "import matplotlib.pyplot as plt"
      ],
      "execution_count": 29,
      "outputs": []
    },
    {
      "cell_type": "code",
      "metadata": {
        "colab": {
          "base_uri": "https://localhost:8080/"
        },
        "id": "xLFSs2W-I4XI",
        "outputId": "428c0543-fb13-478c-aa32-b7ad3b4127bc"
      },
      "source": [
        "max(test_randomn_accuracy_tracker)"
      ],
      "execution_count": 52,
      "outputs": [
        {
          "output_type": "execute_result",
          "data": {
            "text/plain": [
              "0.7737"
            ]
          },
          "metadata": {
            "tags": []
          },
          "execution_count": 52
        }
      ]
    },
    {
      "cell_type": "code",
      "metadata": {
        "colab": {
          "base_uri": "https://localhost:8080/",
          "height": 295
        },
        "id": "NSov7i_XwehI",
        "outputId": "2bd386c7-03c4-4ce2-83b3-5deaad9f1da1"
      },
      "source": [
        "plt.plot(train_mnist_accuracy_tracker, label = \"train_mnist_accuracy\")\n",
        "plt.plot(train_randomn_accuracy_tracker, label = \"train_randomn_accuracy\")\n",
        "plt.plot(test_mnist_accuracy_tracker, label = \"test MNIST accuracy\")\n",
        "plt.plot(test_randomn_accuracy_tracker, label = \"test Randomn accuracy\")\n",
        "plt.xlabel('epochs')\n",
        "# naming the y axis\n",
        "plt.ylabel('accuracy in %')\n",
        "# giving a title to my graph\n",
        "plt.title('Accuracy')\n",
        "  \n",
        "# show a legend on the plot\n",
        "plt.legend()\n",
        "plt.show()"
      ],
      "execution_count": 30,
      "outputs": [
        {
          "output_type": "display_data",
          "data": {
            "image/png": "[encoded data removed]",
            "text/plain": [
              "<Figure size 432x288 with 1 Axes>"
            ]
          },
          "metadata": {
            "tags": [],
            "needs_background": "light"
          }
        }
      ]
    },
    {
      "cell_type": "code",
      "metadata": {
        "colab": {
          "base_uri": "https://localhost:8080/",
          "height": 295
        },
        "id": "Lvb-4eyaxIFE",
        "outputId": "eef73375-2d46-4f9e-97fe-65f3352e2222"
      },
      "source": [
        "plt.plot(train_mnist_loss_tracker, label = \"train_mnist_loss\")\n",
        "# plt.plot(train_randomn_loss_tracker, label = \"train_randomn_loss\")\n",
        "plt.plot(test_mnist_loss_tracker, label = \"test_mnist_loss\")\n",
        "# plt.plot(test_randomn_loss_tracker, label = \"test_randomn_loss\")\n",
        "plt.xlabel('epochs')\n",
        "# naming the y axis\n",
        "plt.ylabel('loss')\n",
        "# giving a title to my graph\n",
        "plt.title('Loss')\n",
        "plt.legend()\n",
        "plt.show()"
      ],
      "execution_count": 31,
      "outputs": [
        {
          "output_type": "display_data",
          "data": {
            "image/png": "[encoded data removed]",
            "text/plain": [
              "<Figure size 432x288 with 1 Axes>"
            ]
          },
          "metadata": {
            "tags": [],
            "needs_background": "light"
          }
        }
      ]
    },
    {
      "cell_type": "code",
      "metadata": {
        "colab": {
          "base_uri": "https://localhost:8080/",
          "height": 295
        },
        "id": "Oik5Uo2D_itp",
        "outputId": "e814306d-4749-4b3c-dcc5-950e81d93153"
      },
      "source": [
        "# plt.plot(train_mnist_loss_tracker, label = \"train_mnist_loss\")\n",
        "plt.plot(train_randomn_loss_tracker, label = \"train_randomn_loss\")\n",
        "# plt.plot(test_mnist_loss_tracker, label = \"test_mnist_loss\")\n",
        "plt.plot(test_randomn_loss_tracker, label = \"test_randomn_loss\")\n",
        "plt.xlabel('epochs')\n",
        "# naming the y axis\n",
        "plt.ylabel('loss')\n",
        "# giving a title to my graph\n",
        "plt.title('Loss')\n",
        "plt.legend()\n",
        "plt.show()"
      ],
      "execution_count": 32,
      "outputs": [
        {
          "output_type": "display_data",
          "data": {
            "image/png": "[encoded data removed]",
            "text/plain": [
              "<Figure size 432x288 with 1 Axes>"
            ]
          },
          "metadata": {
            "tags": [],
            "needs_background": "light"
          }
        }
      ]
    },
    {
      "cell_type": "code",
      "metadata": {
        "id": "wm2uQ0tqrm5Y"
      },
      "source": [
        "# get_num_correct(predicted_mnist,batch_labels)"
      ],
      "execution_count": 33,
      "outputs": []
    },
    {
      "cell_type": "code",
      "metadata": {
        "id": "4wI-Nh9fUveZ"
      },
      "source": [
        "# batch_images,batch_labels,batch_randomn_numbers"
      ],
      "execution_count": 34,
      "outputs": []
    },
    {
      "cell_type": "code",
      "metadata": {
        "id": "wJZ-fBD-U5DG"
      },
      "source": [
        "# predicted_mnist = net(batch_images,batch_randomn_numbers)[:,:10]"
      ],
      "execution_count": 35,
      "outputs": []
    },
    {
      "cell_type": "code",
      "metadata": {
        "id": "f7NxpWPEVOrn"
      },
      "source": [
        "# predicted_mnist.argmax(dim = 1)"
      ],
      "execution_count": 36,
      "outputs": []
    },
    {
      "cell_type": "code",
      "metadata": {
        "id": "A8h8Rt9oasIF"
      },
      "source": [
        "# batch_labels"
      ],
      "execution_count": 37,
      "outputs": []
    },
    {
      "cell_type": "code",
      "metadata": {
        "id": "odMHH3BHWIFX"
      },
      "source": [
        "# predicted_radomn = net(batch_images,batch_randomn_numbers)[:,10:]"
      ],
      "execution_count": 38,
      "outputs": []
    },
    {
      "cell_type": "code",
      "metadata": {
        "id": "caWL7RBFWIFf"
      },
      "source": [
        "# predicted_radomn.argmax(dim = 1)"
      ],
      "execution_count": 39,
      "outputs": []
    },
    {
      "cell_type": "code",
      "metadata": {
        "id": "Cm4672ENawBI"
      },
      "source": [
        "# batch_randomn_numbers"
      ],
      "execution_count": 40,
      "outputs": []
    },
    {
      "cell_type": "code",
      "metadata": {
        "id": "40xeD-r_eCfv"
      },
      "source": [
        "# mnist_number_dataset[0][0].unsqueeze(1).shape"
      ],
      "execution_count": 41,
      "outputs": []
    },
    {
      "cell_type": "code",
      "metadata": {
        "id": "CsMklbPfeMkM"
      },
      "source": [
        "# torch.tensor(mnist_number_dataset[0][2]).unsqueeze(0)"
      ],
      "execution_count": 42,
      "outputs": []
    },
    {
      "cell_type": "code",
      "metadata": {
        "id": "h67eCDhPfoJx"
      },
      "source": [
        "# torch.tensor(mnist_number_dataset[0][2]).unsqueeze(0)"
      ],
      "execution_count": 43,
      "outputs": []
    },
    {
      "cell_type": "code",
      "metadata": {
        "id": "lS7dNdzof8nx"
      },
      "source": [
        "# single_data_point = mnist_number_dataset[0]\n",
        "# single_data_point[1:]"
      ],
      "execution_count": 44,
      "outputs": []
    },
    {
      "cell_type": "code",
      "metadata": {
        "id": "WqjHVKDQel1m"
      },
      "source": [
        "# predicted_mnist = net(single_data_point[0].unsqueeze(1).to(dev),torch.tensor(single_data_point[2]).unsqueeze(0).to(dev))[:,:10]"
      ],
      "execution_count": 45,
      "outputs": []
    },
    {
      "cell_type": "code",
      "metadata": {
        "id": "WzNVqty2f0a9"
      },
      "source": [
        "# predicted_mnist.argmax(dim = 1)"
      ],
      "execution_count": 46,
      "outputs": []
    },
    {
      "cell_type": "code",
      "metadata": {
        "id": "bOy3SGQzf5Kk"
      },
      "source": [
        "# predicted_radomn =net(single_data_point[0].unsqueeze(1).to(dev),torch.tensor(single_data_point[2]).unsqueeze(0).to(dev))[:,10:]"
      ],
      "execution_count": 47,
      "outputs": []
    },
    {
      "cell_type": "code",
      "metadata": {
        "id": "pHvjFhBFgSRN"
      },
      "source": [
        "# predicted_radomn.argmax(dim = 1)"
      ],
      "execution_count": 48,
      "outputs": []
    }
  ]
}